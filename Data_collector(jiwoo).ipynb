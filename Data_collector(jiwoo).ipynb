{
 "cells": [
  {
   "cell_type": "code",
   "execution_count": 2,
   "id": "41d55021",
   "metadata": {},
   "outputs": [],
   "source": [
    "import pandas as pd\n",
    "import numpy as np\n",
    "import matplotlib.pyplot as plt\n",
    "import seaborn as sns"
   ]
  },
  {
   "cell_type": "code",
   "execution_count": 3,
   "id": "bf3c262e",
   "metadata": {},
   "outputs": [],
   "source": [
    "data = pd.read_csv(\"./Aicon/02.격자단위_구급출동_dataset.csv\")"
   ]
  },
  {
   "cell_type": "code",
   "execution_count": 4,
   "id": "7b22ddb0",
   "metadata": {},
   "outputs": [
    {
     "data": {
      "text/html": [
       "<div>\n",
       "<style scoped>\n",
       "    .dataframe tbody tr th:only-of-type {\n",
       "        vertical-align: middle;\n",
       "    }\n",
       "\n",
       "    .dataframe tbody tr th {\n",
       "        vertical-align: top;\n",
       "    }\n",
       "\n",
       "    .dataframe thead th {\n",
       "        text-align: right;\n",
       "    }\n",
       "</style>\n",
       "<table border=\"1\" class=\"dataframe\">\n",
       "  <thead>\n",
       "    <tr style=\"text-align: right;\">\n",
       "      <th></th>\n",
       "      <th>GRID_ID</th>\n",
       "      <th>GRID_X_AXIS</th>\n",
       "      <th>GRID_Y_AXIS</th>\n",
       "      <th>TIME</th>\n",
       "      <th>YMD</th>\n",
       "      <th>STDG_CD</th>\n",
       "      <th>FP_IDEX</th>\n",
       "      <th>OLD_FP_IDEX</th>\n",
       "      <th>RELIFPLC_DWL_IDEX</th>\n",
       "      <th>RELIFPLC_ROAD_IDEX</th>\n",
       "      <th>RELIFPLC_INDUST_IDEX</th>\n",
       "      <th>RELIFPLC_NTR_IDEX</th>\n",
       "      <th>RELIFPLC_ETC_IDEX</th>\n",
       "      <th>DSP_CNT_IDEX</th>\n",
       "      <th>DISEASE_DSP_IDEX</th>\n",
       "      <th>DISEASE_EXCL_DSP_IDEX</th>\n",
       "    </tr>\n",
       "  </thead>\n",
       "  <tbody>\n",
       "    <tr>\n",
       "      <th>count</th>\n",
       "      <td>1.769078e+06</td>\n",
       "      <td>1.769078e+06</td>\n",
       "      <td>1.769078e+06</td>\n",
       "      <td>1.769078e+06</td>\n",
       "      <td>1.769078e+06</td>\n",
       "      <td>1.769078e+06</td>\n",
       "      <td>1.769078e+06</td>\n",
       "      <td>1.769078e+06</td>\n",
       "      <td>1.769078e+06</td>\n",
       "      <td>1.769078e+06</td>\n",
       "      <td>1.769078e+06</td>\n",
       "      <td>1.769078e+06</td>\n",
       "      <td>1.769078e+06</td>\n",
       "      <td>1.769078e+06</td>\n",
       "      <td>1.769078e+06</td>\n",
       "      <td>1.769078e+06</td>\n",
       "    </tr>\n",
       "    <tr>\n",
       "      <th>mean</th>\n",
       "      <td>3.926545e+07</td>\n",
       "      <td>3.926770e+05</td>\n",
       "      <td>5.258797e+05</td>\n",
       "      <td>1.280125e+01</td>\n",
       "      <td>2.020068e+07</td>\n",
       "      <td>4.213000e+09</td>\n",
       "      <td>4.101418e+02</td>\n",
       "      <td>3.944397e+01</td>\n",
       "      <td>4.950036e-03</td>\n",
       "      <td>1.821853e-03</td>\n",
       "      <td>5.449166e-04</td>\n",
       "      <td>1.938863e-04</td>\n",
       "      <td>7.088438e-04</td>\n",
       "      <td>9.312195e-03</td>\n",
       "      <td>4.077265e-03</td>\n",
       "      <td>5.234930e-03</td>\n",
       "    </tr>\n",
       "    <tr>\n",
       "      <th>std</th>\n",
       "      <td>6.272332e+05</td>\n",
       "      <td>6.272231e+03</td>\n",
       "      <td>7.287446e+03</td>\n",
       "      <td>6.259200e+00</td>\n",
       "      <td>3.409836e+02</td>\n",
       "      <td>0.000000e+00</td>\n",
       "      <td>9.845126e+02</td>\n",
       "      <td>1.065871e+02</td>\n",
       "      <td>7.344097e-02</td>\n",
       "      <td>4.905519e-02</td>\n",
       "      <td>2.384033e-02</td>\n",
       "      <td>1.448020e-02</td>\n",
       "      <td>2.761535e-02</td>\n",
       "      <td>1.072808e-01</td>\n",
       "      <td>6.489225e-02</td>\n",
       "      <td>8.125642e-02</td>\n",
       "    </tr>\n",
       "    <tr>\n",
       "      <th>min</th>\n",
       "      <td>3.764586e+07</td>\n",
       "      <td>3.764750e+05</td>\n",
       "      <td>5.044750e+05</td>\n",
       "      <td>0.000000e+00</td>\n",
       "      <td>2.020010e+07</td>\n",
       "      <td>4.213000e+09</td>\n",
       "      <td>0.000000e+00</td>\n",
       "      <td>0.000000e+00</td>\n",
       "      <td>0.000000e+00</td>\n",
       "      <td>0.000000e+00</td>\n",
       "      <td>0.000000e+00</td>\n",
       "      <td>0.000000e+00</td>\n",
       "      <td>0.000000e+00</td>\n",
       "      <td>0.000000e+00</td>\n",
       "      <td>0.000000e+00</td>\n",
       "      <td>0.000000e+00</td>\n",
       "    </tr>\n",
       "    <tr>\n",
       "      <th>25%</th>\n",
       "      <td>3.884529e+07</td>\n",
       "      <td>3.884750e+05</td>\n",
       "      <td>5.224750e+05</td>\n",
       "      <td>8.000000e+00</td>\n",
       "      <td>2.020041e+07</td>\n",
       "      <td>4.213000e+09</td>\n",
       "      <td>5.100000e+00</td>\n",
       "      <td>5.100000e-01</td>\n",
       "      <td>0.000000e+00</td>\n",
       "      <td>0.000000e+00</td>\n",
       "      <td>0.000000e+00</td>\n",
       "      <td>0.000000e+00</td>\n",
       "      <td>0.000000e+00</td>\n",
       "      <td>0.000000e+00</td>\n",
       "      <td>0.000000e+00</td>\n",
       "      <td>0.000000e+00</td>\n",
       "    </tr>\n",
       "    <tr>\n",
       "      <th>50%</th>\n",
       "      <td>3.934524e+07</td>\n",
       "      <td>3.934750e+05</td>\n",
       "      <td>5.264750e+05</td>\n",
       "      <td>1.300000e+01</td>\n",
       "      <td>2.020071e+07</td>\n",
       "      <td>4.213000e+09</td>\n",
       "      <td>2.954000e+01</td>\n",
       "      <td>2.780000e+00</td>\n",
       "      <td>0.000000e+00</td>\n",
       "      <td>0.000000e+00</td>\n",
       "      <td>0.000000e+00</td>\n",
       "      <td>0.000000e+00</td>\n",
       "      <td>0.000000e+00</td>\n",
       "      <td>0.000000e+00</td>\n",
       "      <td>0.000000e+00</td>\n",
       "      <td>0.000000e+00</td>\n",
       "    </tr>\n",
       "    <tr>\n",
       "      <th>75%</th>\n",
       "      <td>3.964536e+07</td>\n",
       "      <td>3.964750e+05</td>\n",
       "      <td>5.314750e+05</td>\n",
       "      <td>1.800000e+01</td>\n",
       "      <td>2.020100e+07</td>\n",
       "      <td>4.213000e+09</td>\n",
       "      <td>2.589800e+02</td>\n",
       "      <td>2.021000e+01</td>\n",
       "      <td>0.000000e+00</td>\n",
       "      <td>0.000000e+00</td>\n",
       "      <td>0.000000e+00</td>\n",
       "      <td>0.000000e+00</td>\n",
       "      <td>0.000000e+00</td>\n",
       "      <td>0.000000e+00</td>\n",
       "      <td>0.000000e+00</td>\n",
       "      <td>0.000000e+00</td>\n",
       "    </tr>\n",
       "    <tr>\n",
       "      <th>max</th>\n",
       "      <td>4.994551e+07</td>\n",
       "      <td>4.994750e+05</td>\n",
       "      <td>5.864750e+05</td>\n",
       "      <td>2.300000e+01</td>\n",
       "      <td>2.020123e+07</td>\n",
       "      <td>4.213000e+09</td>\n",
       "      <td>1.065106e+04</td>\n",
       "      <td>1.888090e+03</td>\n",
       "      <td>1.100000e+01</td>\n",
       "      <td>1.000000e+01</td>\n",
       "      <td>2.000000e+00</td>\n",
       "      <td>3.000000e+00</td>\n",
       "      <td>3.000000e+00</td>\n",
       "      <td>1.400000e+01</td>\n",
       "      <td>7.000000e+00</td>\n",
       "      <td>1.100000e+01</td>\n",
       "    </tr>\n",
       "  </tbody>\n",
       "</table>\n",
       "</div>"
      ],
      "text/plain": [
       "            GRID_ID   GRID_X_AXIS   GRID_Y_AXIS          TIME           YMD  \\\n",
       "count  1.769078e+06  1.769078e+06  1.769078e+06  1.769078e+06  1.769078e+06   \n",
       "mean   3.926545e+07  3.926770e+05  5.258797e+05  1.280125e+01  2.020068e+07   \n",
       "std    6.272332e+05  6.272231e+03  7.287446e+03  6.259200e+00  3.409836e+02   \n",
       "min    3.764586e+07  3.764750e+05  5.044750e+05  0.000000e+00  2.020010e+07   \n",
       "25%    3.884529e+07  3.884750e+05  5.224750e+05  8.000000e+00  2.020041e+07   \n",
       "50%    3.934524e+07  3.934750e+05  5.264750e+05  1.300000e+01  2.020071e+07   \n",
       "75%    3.964536e+07  3.964750e+05  5.314750e+05  1.800000e+01  2.020100e+07   \n",
       "max    4.994551e+07  4.994750e+05  5.864750e+05  2.300000e+01  2.020123e+07   \n",
       "\n",
       "            STDG_CD       FP_IDEX   OLD_FP_IDEX  RELIFPLC_DWL_IDEX  \\\n",
       "count  1.769078e+06  1.769078e+06  1.769078e+06       1.769078e+06   \n",
       "mean   4.213000e+09  4.101418e+02  3.944397e+01       4.950036e-03   \n",
       "std    0.000000e+00  9.845126e+02  1.065871e+02       7.344097e-02   \n",
       "min    4.213000e+09  0.000000e+00  0.000000e+00       0.000000e+00   \n",
       "25%    4.213000e+09  5.100000e+00  5.100000e-01       0.000000e+00   \n",
       "50%    4.213000e+09  2.954000e+01  2.780000e+00       0.000000e+00   \n",
       "75%    4.213000e+09  2.589800e+02  2.021000e+01       0.000000e+00   \n",
       "max    4.213000e+09  1.065106e+04  1.888090e+03       1.100000e+01   \n",
       "\n",
       "       RELIFPLC_ROAD_IDEX  RELIFPLC_INDUST_IDEX  RELIFPLC_NTR_IDEX  \\\n",
       "count        1.769078e+06          1.769078e+06       1.769078e+06   \n",
       "mean         1.821853e-03          5.449166e-04       1.938863e-04   \n",
       "std          4.905519e-02          2.384033e-02       1.448020e-02   \n",
       "min          0.000000e+00          0.000000e+00       0.000000e+00   \n",
       "25%          0.000000e+00          0.000000e+00       0.000000e+00   \n",
       "50%          0.000000e+00          0.000000e+00       0.000000e+00   \n",
       "75%          0.000000e+00          0.000000e+00       0.000000e+00   \n",
       "max          1.000000e+01          2.000000e+00       3.000000e+00   \n",
       "\n",
       "       RELIFPLC_ETC_IDEX  DSP_CNT_IDEX  DISEASE_DSP_IDEX  \\\n",
       "count       1.769078e+06  1.769078e+06      1.769078e+06   \n",
       "mean        7.088438e-04  9.312195e-03      4.077265e-03   \n",
       "std         2.761535e-02  1.072808e-01      6.489225e-02   \n",
       "min         0.000000e+00  0.000000e+00      0.000000e+00   \n",
       "25%         0.000000e+00  0.000000e+00      0.000000e+00   \n",
       "50%         0.000000e+00  0.000000e+00      0.000000e+00   \n",
       "75%         0.000000e+00  0.000000e+00      0.000000e+00   \n",
       "max         3.000000e+00  1.400000e+01      7.000000e+00   \n",
       "\n",
       "       DISEASE_EXCL_DSP_IDEX  \n",
       "count           1.769078e+06  \n",
       "mean            5.234930e-03  \n",
       "std             8.125642e-02  \n",
       "min             0.000000e+00  \n",
       "25%             0.000000e+00  \n",
       "50%             0.000000e+00  \n",
       "75%             0.000000e+00  \n",
       "max             1.100000e+01  "
      ]
     },
     "execution_count": 4,
     "metadata": {},
     "output_type": "execute_result"
    }
   ],
   "source": [
    "data.describe()"
   ]
  },
  {
   "cell_type": "code",
   "execution_count": 5,
   "id": "1ff5bed1",
   "metadata": {},
   "outputs": [
    {
     "name": "stdout",
     "output_type": "stream",
     "text": [
      "<class 'pandas.core.frame.DataFrame'>\n",
      "RangeIndex: 1769078 entries, 0 to 1769077\n",
      "Data columns (total 16 columns):\n",
      " #   Column                 Dtype  \n",
      "---  ------                 -----  \n",
      " 0   GRID_ID                int64  \n",
      " 1   GRID_X_AXIS            int64  \n",
      " 2   GRID_Y_AXIS            int64  \n",
      " 3   TIME                   int64  \n",
      " 4   YMD                    int64  \n",
      " 5   STDG_CD                int64  \n",
      " 6   FP_IDEX                float64\n",
      " 7   OLD_FP_IDEX            float64\n",
      " 8   RELIFPLC_DWL_IDEX      int64  \n",
      " 9   RELIFPLC_ROAD_IDEX     int64  \n",
      " 10  RELIFPLC_INDUST_IDEX   int64  \n",
      " 11  RELIFPLC_NTR_IDEX      int64  \n",
      " 12  RELIFPLC_ETC_IDEX      int64  \n",
      " 13  DSP_CNT_IDEX           int64  \n",
      " 14  DISEASE_DSP_IDEX       int64  \n",
      " 15  DISEASE_EXCL_DSP_IDEX  int64  \n",
      "dtypes: float64(2), int64(14)\n",
      "memory usage: 216.0 MB\n"
     ]
    }
   ],
   "source": [
    "data.info()"
   ]
  },
  {
   "cell_type": "code",
   "execution_count": 6,
   "id": "6ccfa90f",
   "metadata": {},
   "outputs": [
    {
     "data": {
      "text/html": [
       "<div>\n",
       "<style scoped>\n",
       "    .dataframe tbody tr th:only-of-type {\n",
       "        vertical-align: middle;\n",
       "    }\n",
       "\n",
       "    .dataframe tbody tr th {\n",
       "        vertical-align: top;\n",
       "    }\n",
       "\n",
       "    .dataframe thead th {\n",
       "        text-align: right;\n",
       "    }\n",
       "</style>\n",
       "<table border=\"1\" class=\"dataframe\">\n",
       "  <thead>\n",
       "    <tr style=\"text-align: right;\">\n",
       "      <th></th>\n",
       "      <th>GRID_ID</th>\n",
       "      <th>GRID_X_AXIS</th>\n",
       "      <th>GRID_Y_AXIS</th>\n",
       "      <th>TIME</th>\n",
       "      <th>YMD</th>\n",
       "      <th>STDG_CD</th>\n",
       "      <th>FP_IDEX</th>\n",
       "      <th>OLD_FP_IDEX</th>\n",
       "      <th>RELIFPLC_DWL_IDEX</th>\n",
       "      <th>RELIFPLC_ROAD_IDEX</th>\n",
       "      <th>RELIFPLC_INDUST_IDEX</th>\n",
       "      <th>RELIFPLC_NTR_IDEX</th>\n",
       "      <th>RELIFPLC_ETC_IDEX</th>\n",
       "      <th>DSP_CNT_IDEX</th>\n",
       "      <th>DISEASE_DSP_IDEX</th>\n",
       "      <th>DISEASE_EXCL_DSP_IDEX</th>\n",
       "    </tr>\n",
       "  </thead>\n",
       "  <tbody>\n",
       "    <tr>\n",
       "      <th>0</th>\n",
       "      <td>38045314</td>\n",
       "      <td>380475</td>\n",
       "      <td>531475</td>\n",
       "      <td>0</td>\n",
       "      <td>20200101</td>\n",
       "      <td>4213000000</td>\n",
       "      <td>2.88</td>\n",
       "      <td>0.72</td>\n",
       "      <td>0</td>\n",
       "      <td>0</td>\n",
       "      <td>0</td>\n",
       "      <td>0</td>\n",
       "      <td>0</td>\n",
       "      <td>0</td>\n",
       "      <td>0</td>\n",
       "      <td>0</td>\n",
       "    </tr>\n",
       "    <tr>\n",
       "      <th>1</th>\n",
       "      <td>38045324</td>\n",
       "      <td>380475</td>\n",
       "      <td>532475</td>\n",
       "      <td>0</td>\n",
       "      <td>20200101</td>\n",
       "      <td>4213000000</td>\n",
       "      <td>9.36</td>\n",
       "      <td>1.44</td>\n",
       "      <td>0</td>\n",
       "      <td>0</td>\n",
       "      <td>0</td>\n",
       "      <td>0</td>\n",
       "      <td>0</td>\n",
       "      <td>0</td>\n",
       "      <td>0</td>\n",
       "      <td>0</td>\n",
       "    </tr>\n",
       "    <tr>\n",
       "      <th>2</th>\n",
       "      <td>38145354</td>\n",
       "      <td>381475</td>\n",
       "      <td>535475</td>\n",
       "      <td>0</td>\n",
       "      <td>20200101</td>\n",
       "      <td>4213000000</td>\n",
       "      <td>3.93</td>\n",
       "      <td>0.15</td>\n",
       "      <td>0</td>\n",
       "      <td>0</td>\n",
       "      <td>0</td>\n",
       "      <td>0</td>\n",
       "      <td>0</td>\n",
       "      <td>0</td>\n",
       "      <td>0</td>\n",
       "      <td>0</td>\n",
       "    </tr>\n",
       "    <tr>\n",
       "      <th>3</th>\n",
       "      <td>38245184</td>\n",
       "      <td>382475</td>\n",
       "      <td>518475</td>\n",
       "      <td>0</td>\n",
       "      <td>20200101</td>\n",
       "      <td>4213000000</td>\n",
       "      <td>2.69</td>\n",
       "      <td>0.16</td>\n",
       "      <td>0</td>\n",
       "      <td>0</td>\n",
       "      <td>0</td>\n",
       "      <td>0</td>\n",
       "      <td>0</td>\n",
       "      <td>0</td>\n",
       "      <td>0</td>\n",
       "      <td>0</td>\n",
       "    </tr>\n",
       "    <tr>\n",
       "      <th>4</th>\n",
       "      <td>38245194</td>\n",
       "      <td>382475</td>\n",
       "      <td>519475</td>\n",
       "      <td>0</td>\n",
       "      <td>20200101</td>\n",
       "      <td>4213000000</td>\n",
       "      <td>2.35</td>\n",
       "      <td>0.14</td>\n",
       "      <td>0</td>\n",
       "      <td>0</td>\n",
       "      <td>0</td>\n",
       "      <td>0</td>\n",
       "      <td>0</td>\n",
       "      <td>0</td>\n",
       "      <td>0</td>\n",
       "      <td>0</td>\n",
       "    </tr>\n",
       "  </tbody>\n",
       "</table>\n",
       "</div>"
      ],
      "text/plain": [
       "    GRID_ID  GRID_X_AXIS  GRID_Y_AXIS  TIME       YMD     STDG_CD  FP_IDEX  \\\n",
       "0  38045314       380475       531475     0  20200101  4213000000     2.88   \n",
       "1  38045324       380475       532475     0  20200101  4213000000     9.36   \n",
       "2  38145354       381475       535475     0  20200101  4213000000     3.93   \n",
       "3  38245184       382475       518475     0  20200101  4213000000     2.69   \n",
       "4  38245194       382475       519475     0  20200101  4213000000     2.35   \n",
       "\n",
       "   OLD_FP_IDEX  RELIFPLC_DWL_IDEX  RELIFPLC_ROAD_IDEX  RELIFPLC_INDUST_IDEX  \\\n",
       "0         0.72                  0                   0                     0   \n",
       "1         1.44                  0                   0                     0   \n",
       "2         0.15                  0                   0                     0   \n",
       "3         0.16                  0                   0                     0   \n",
       "4         0.14                  0                   0                     0   \n",
       "\n",
       "   RELIFPLC_NTR_IDEX  RELIFPLC_ETC_IDEX  DSP_CNT_IDEX  DISEASE_DSP_IDEX  \\\n",
       "0                  0                  0             0                 0   \n",
       "1                  0                  0             0                 0   \n",
       "2                  0                  0             0                 0   \n",
       "3                  0                  0             0                 0   \n",
       "4                  0                  0             0                 0   \n",
       "\n",
       "   DISEASE_EXCL_DSP_IDEX  \n",
       "0                      0  \n",
       "1                      0  \n",
       "2                      0  \n",
       "3                      0  \n",
       "4                      0  "
      ]
     },
     "execution_count": 6,
     "metadata": {},
     "output_type": "execute_result"
    }
   ],
   "source": [
    "data.head()"
   ]
  },
  {
   "cell_type": "code",
   "execution_count": 7,
   "id": "94583d18",
   "metadata": {},
   "outputs": [],
   "source": [
    "# data 전처리\n",
    "from datetime import datetime\n",
    "data['month']=data['YMD'].map(lambda x: datetime.strptime(str(x), '%Y%m%d').month)\n",
    "data['day']=data['YMD'].map(lambda x: datetime.strptime(str(x), '%Y%m%d').day)"
   ]
  },
  {
   "cell_type": "code",
   "execution_count": 8,
   "id": "ab00747e",
   "metadata": {},
   "outputs": [
    {
     "data": {
      "text/html": [
       "<div>\n",
       "<style scoped>\n",
       "    .dataframe tbody tr th:only-of-type {\n",
       "        vertical-align: middle;\n",
       "    }\n",
       "\n",
       "    .dataframe tbody tr th {\n",
       "        vertical-align: top;\n",
       "    }\n",
       "\n",
       "    .dataframe thead th {\n",
       "        text-align: right;\n",
       "    }\n",
       "</style>\n",
       "<table border=\"1\" class=\"dataframe\">\n",
       "  <thead>\n",
       "    <tr style=\"text-align: right;\">\n",
       "      <th></th>\n",
       "      <th>GRID_ID</th>\n",
       "      <th>GRID_X_AXIS</th>\n",
       "      <th>GRID_Y_AXIS</th>\n",
       "      <th>TIME</th>\n",
       "      <th>YMD</th>\n",
       "      <th>STDG_CD</th>\n",
       "      <th>FP_IDEX</th>\n",
       "      <th>OLD_FP_IDEX</th>\n",
       "      <th>RELIFPLC_DWL_IDEX</th>\n",
       "      <th>RELIFPLC_ROAD_IDEX</th>\n",
       "      <th>RELIFPLC_INDUST_IDEX</th>\n",
       "      <th>RELIFPLC_NTR_IDEX</th>\n",
       "      <th>RELIFPLC_ETC_IDEX</th>\n",
       "      <th>DSP_CNT_IDEX</th>\n",
       "      <th>DISEASE_DSP_IDEX</th>\n",
       "      <th>DISEASE_EXCL_DSP_IDEX</th>\n",
       "      <th>month</th>\n",
       "      <th>day</th>\n",
       "    </tr>\n",
       "  </thead>\n",
       "  <tbody>\n",
       "    <tr>\n",
       "      <th>0</th>\n",
       "      <td>38045314</td>\n",
       "      <td>380475</td>\n",
       "      <td>531475</td>\n",
       "      <td>0</td>\n",
       "      <td>20200101</td>\n",
       "      <td>4213000000</td>\n",
       "      <td>2.88</td>\n",
       "      <td>0.72</td>\n",
       "      <td>0</td>\n",
       "      <td>0</td>\n",
       "      <td>0</td>\n",
       "      <td>0</td>\n",
       "      <td>0</td>\n",
       "      <td>0</td>\n",
       "      <td>0</td>\n",
       "      <td>0</td>\n",
       "      <td>1</td>\n",
       "      <td>1</td>\n",
       "    </tr>\n",
       "    <tr>\n",
       "      <th>1</th>\n",
       "      <td>38045324</td>\n",
       "      <td>380475</td>\n",
       "      <td>532475</td>\n",
       "      <td>0</td>\n",
       "      <td>20200101</td>\n",
       "      <td>4213000000</td>\n",
       "      <td>9.36</td>\n",
       "      <td>1.44</td>\n",
       "      <td>0</td>\n",
       "      <td>0</td>\n",
       "      <td>0</td>\n",
       "      <td>0</td>\n",
       "      <td>0</td>\n",
       "      <td>0</td>\n",
       "      <td>0</td>\n",
       "      <td>0</td>\n",
       "      <td>1</td>\n",
       "      <td>1</td>\n",
       "    </tr>\n",
       "    <tr>\n",
       "      <th>2</th>\n",
       "      <td>38145354</td>\n",
       "      <td>381475</td>\n",
       "      <td>535475</td>\n",
       "      <td>0</td>\n",
       "      <td>20200101</td>\n",
       "      <td>4213000000</td>\n",
       "      <td>3.93</td>\n",
       "      <td>0.15</td>\n",
       "      <td>0</td>\n",
       "      <td>0</td>\n",
       "      <td>0</td>\n",
       "      <td>0</td>\n",
       "      <td>0</td>\n",
       "      <td>0</td>\n",
       "      <td>0</td>\n",
       "      <td>0</td>\n",
       "      <td>1</td>\n",
       "      <td>1</td>\n",
       "    </tr>\n",
       "    <tr>\n",
       "      <th>3</th>\n",
       "      <td>38245184</td>\n",
       "      <td>382475</td>\n",
       "      <td>518475</td>\n",
       "      <td>0</td>\n",
       "      <td>20200101</td>\n",
       "      <td>4213000000</td>\n",
       "      <td>2.69</td>\n",
       "      <td>0.16</td>\n",
       "      <td>0</td>\n",
       "      <td>0</td>\n",
       "      <td>0</td>\n",
       "      <td>0</td>\n",
       "      <td>0</td>\n",
       "      <td>0</td>\n",
       "      <td>0</td>\n",
       "      <td>0</td>\n",
       "      <td>1</td>\n",
       "      <td>1</td>\n",
       "    </tr>\n",
       "    <tr>\n",
       "      <th>4</th>\n",
       "      <td>38245194</td>\n",
       "      <td>382475</td>\n",
       "      <td>519475</td>\n",
       "      <td>0</td>\n",
       "      <td>20200101</td>\n",
       "      <td>4213000000</td>\n",
       "      <td>2.35</td>\n",
       "      <td>0.14</td>\n",
       "      <td>0</td>\n",
       "      <td>0</td>\n",
       "      <td>0</td>\n",
       "      <td>0</td>\n",
       "      <td>0</td>\n",
       "      <td>0</td>\n",
       "      <td>0</td>\n",
       "      <td>0</td>\n",
       "      <td>1</td>\n",
       "      <td>1</td>\n",
       "    </tr>\n",
       "    <tr>\n",
       "      <th>...</th>\n",
       "      <td>...</td>\n",
       "      <td>...</td>\n",
       "      <td>...</td>\n",
       "      <td>...</td>\n",
       "      <td>...</td>\n",
       "      <td>...</td>\n",
       "      <td>...</td>\n",
       "      <td>...</td>\n",
       "      <td>...</td>\n",
       "      <td>...</td>\n",
       "      <td>...</td>\n",
       "      <td>...</td>\n",
       "      <td>...</td>\n",
       "      <td>...</td>\n",
       "      <td>...</td>\n",
       "      <td>...</td>\n",
       "      <td>...</td>\n",
       "      <td>...</td>\n",
       "    </tr>\n",
       "    <tr>\n",
       "      <th>1769073</th>\n",
       "      <td>40245274</td>\n",
       "      <td>402475</td>\n",
       "      <td>527475</td>\n",
       "      <td>23</td>\n",
       "      <td>20201230</td>\n",
       "      <td>4213000000</td>\n",
       "      <td>25.48</td>\n",
       "      <td>1.04</td>\n",
       "      <td>0</td>\n",
       "      <td>0</td>\n",
       "      <td>0</td>\n",
       "      <td>0</td>\n",
       "      <td>0</td>\n",
       "      <td>0</td>\n",
       "      <td>0</td>\n",
       "      <td>0</td>\n",
       "      <td>12</td>\n",
       "      <td>30</td>\n",
       "    </tr>\n",
       "    <tr>\n",
       "      <th>1769074</th>\n",
       "      <td>40545364</td>\n",
       "      <td>405475</td>\n",
       "      <td>536475</td>\n",
       "      <td>23</td>\n",
       "      <td>20201230</td>\n",
       "      <td>4213000000</td>\n",
       "      <td>1.21</td>\n",
       "      <td>0.32</td>\n",
       "      <td>0</td>\n",
       "      <td>0</td>\n",
       "      <td>0</td>\n",
       "      <td>0</td>\n",
       "      <td>0</td>\n",
       "      <td>0</td>\n",
       "      <td>0</td>\n",
       "      <td>0</td>\n",
       "      <td>12</td>\n",
       "      <td>30</td>\n",
       "    </tr>\n",
       "    <tr>\n",
       "      <th>1769075</th>\n",
       "      <td>40645144</td>\n",
       "      <td>406475</td>\n",
       "      <td>514475</td>\n",
       "      <td>23</td>\n",
       "      <td>20201230</td>\n",
       "      <td>4213000000</td>\n",
       "      <td>1.28</td>\n",
       "      <td>0.30</td>\n",
       "      <td>0</td>\n",
       "      <td>0</td>\n",
       "      <td>0</td>\n",
       "      <td>0</td>\n",
       "      <td>0</td>\n",
       "      <td>0</td>\n",
       "      <td>0</td>\n",
       "      <td>0</td>\n",
       "      <td>12</td>\n",
       "      <td>30</td>\n",
       "    </tr>\n",
       "    <tr>\n",
       "      <th>1769076</th>\n",
       "      <td>40745144</td>\n",
       "      <td>407475</td>\n",
       "      <td>514475</td>\n",
       "      <td>23</td>\n",
       "      <td>20201230</td>\n",
       "      <td>4213000000</td>\n",
       "      <td>6.17</td>\n",
       "      <td>1.47</td>\n",
       "      <td>0</td>\n",
       "      <td>0</td>\n",
       "      <td>0</td>\n",
       "      <td>0</td>\n",
       "      <td>0</td>\n",
       "      <td>0</td>\n",
       "      <td>0</td>\n",
       "      <td>0</td>\n",
       "      <td>12</td>\n",
       "      <td>30</td>\n",
       "    </tr>\n",
       "    <tr>\n",
       "      <th>1769077</th>\n",
       "      <td>40845154</td>\n",
       "      <td>408475</td>\n",
       "      <td>515475</td>\n",
       "      <td>23</td>\n",
       "      <td>20201230</td>\n",
       "      <td>4213000000</td>\n",
       "      <td>1.04</td>\n",
       "      <td>0.22</td>\n",
       "      <td>0</td>\n",
       "      <td>0</td>\n",
       "      <td>0</td>\n",
       "      <td>0</td>\n",
       "      <td>0</td>\n",
       "      <td>0</td>\n",
       "      <td>0</td>\n",
       "      <td>0</td>\n",
       "      <td>12</td>\n",
       "      <td>30</td>\n",
       "    </tr>\n",
       "  </tbody>\n",
       "</table>\n",
       "<p>1769078 rows × 18 columns</p>\n",
       "</div>"
      ],
      "text/plain": [
       "          GRID_ID  GRID_X_AXIS  GRID_Y_AXIS  TIME       YMD     STDG_CD  \\\n",
       "0        38045314       380475       531475     0  20200101  4213000000   \n",
       "1        38045324       380475       532475     0  20200101  4213000000   \n",
       "2        38145354       381475       535475     0  20200101  4213000000   \n",
       "3        38245184       382475       518475     0  20200101  4213000000   \n",
       "4        38245194       382475       519475     0  20200101  4213000000   \n",
       "...           ...          ...          ...   ...       ...         ...   \n",
       "1769073  40245274       402475       527475    23  20201230  4213000000   \n",
       "1769074  40545364       405475       536475    23  20201230  4213000000   \n",
       "1769075  40645144       406475       514475    23  20201230  4213000000   \n",
       "1769076  40745144       407475       514475    23  20201230  4213000000   \n",
       "1769077  40845154       408475       515475    23  20201230  4213000000   \n",
       "\n",
       "         FP_IDEX  OLD_FP_IDEX  RELIFPLC_DWL_IDEX  RELIFPLC_ROAD_IDEX  \\\n",
       "0           2.88         0.72                  0                   0   \n",
       "1           9.36         1.44                  0                   0   \n",
       "2           3.93         0.15                  0                   0   \n",
       "3           2.69         0.16                  0                   0   \n",
       "4           2.35         0.14                  0                   0   \n",
       "...          ...          ...                ...                 ...   \n",
       "1769073    25.48         1.04                  0                   0   \n",
       "1769074     1.21         0.32                  0                   0   \n",
       "1769075     1.28         0.30                  0                   0   \n",
       "1769076     6.17         1.47                  0                   0   \n",
       "1769077     1.04         0.22                  0                   0   \n",
       "\n",
       "         RELIFPLC_INDUST_IDEX  RELIFPLC_NTR_IDEX  RELIFPLC_ETC_IDEX  \\\n",
       "0                           0                  0                  0   \n",
       "1                           0                  0                  0   \n",
       "2                           0                  0                  0   \n",
       "3                           0                  0                  0   \n",
       "4                           0                  0                  0   \n",
       "...                       ...                ...                ...   \n",
       "1769073                     0                  0                  0   \n",
       "1769074                     0                  0                  0   \n",
       "1769075                     0                  0                  0   \n",
       "1769076                     0                  0                  0   \n",
       "1769077                     0                  0                  0   \n",
       "\n",
       "         DSP_CNT_IDEX  DISEASE_DSP_IDEX  DISEASE_EXCL_DSP_IDEX  month  day  \n",
       "0                   0                 0                      0      1    1  \n",
       "1                   0                 0                      0      1    1  \n",
       "2                   0                 0                      0      1    1  \n",
       "3                   0                 0                      0      1    1  \n",
       "4                   0                 0                      0      1    1  \n",
       "...               ...               ...                    ...    ...  ...  \n",
       "1769073             0                 0                      0     12   30  \n",
       "1769074             0                 0                      0     12   30  \n",
       "1769075             0                 0                      0     12   30  \n",
       "1769076             0                 0                      0     12   30  \n",
       "1769077             0                 0                      0     12   30  \n",
       "\n",
       "[1769078 rows x 18 columns]"
      ]
     },
     "execution_count": 8,
     "metadata": {},
     "output_type": "execute_result"
    }
   ],
   "source": [
    "data"
   ]
  },
  {
   "cell_type": "code",
   "execution_count": null,
   "id": "3a3d3e7c",
   "metadata": {},
   "outputs": [],
   "source": []
  },
  {
   "cell_type": "markdown",
   "id": "112017c5",
   "metadata": {},
   "source": [
    "### 격자에 따른 유동인구 합과 출동빈도 합의 선형회귀 성립 조건 확인\n",
    "1. 산점도 확인\n",
    "2. 회귀식의 적합성 (F검정, 분산의 동질성) (y=ax 중 a=0이다 or 0이 아니다.)\n",
    "3. 회귀 계수 검정 (T검정) -> 독립변수(유동인구)는 종속변수(출동빈도)에 영향을 미치지 않는다(귀무), 영향을 미친다(대립).\n",
    "4. 다중공선성, 수정결정계수 확인 -> 다중공선성, 수정결정계수 1에 가까운지.\n",
    "5. 잔차 분석 (잔차의 정규성, 등분산성, 독립성을 가져야 함)\n",
    "6. 회귀모형 선정\n",
    "  - 유동인구수가 너무 커서 등분산성 충족을 위해 로그변수변환을 취함"
   ]
  },
  {
   "cell_type": "code",
   "execution_count": 219,
   "id": "748588be",
   "metadata": {},
   "outputs": [],
   "source": [
    "rect_table = pd.pivot_table(data, values= [\"DSP_CNT_IDEX\",\"FP_IDEX\"] , index=['GRID_ID'], aggfunc=np.sum)"
   ]
  },
  {
   "cell_type": "code",
   "execution_count": 220,
   "id": "6f47ac2e",
   "metadata": {},
   "outputs": [
    {
     "data": {
      "text/html": [
       "<div>\n",
       "<style scoped>\n",
       "    .dataframe tbody tr th:only-of-type {\n",
       "        vertical-align: middle;\n",
       "    }\n",
       "\n",
       "    .dataframe tbody tr th {\n",
       "        vertical-align: top;\n",
       "    }\n",
       "\n",
       "    .dataframe thead th {\n",
       "        text-align: right;\n",
       "    }\n",
       "</style>\n",
       "<table border=\"1\" class=\"dataframe\">\n",
       "  <thead>\n",
       "    <tr style=\"text-align: right;\">\n",
       "      <th></th>\n",
       "      <th>DSP_CNT_IDEX</th>\n",
       "      <th>FP_IDEX</th>\n",
       "    </tr>\n",
       "    <tr>\n",
       "      <th>GRID_ID</th>\n",
       "      <th></th>\n",
       "      <th></th>\n",
       "    </tr>\n",
       "  </thead>\n",
       "  <tbody>\n",
       "    <tr>\n",
       "      <th>37645864</th>\n",
       "      <td>1</td>\n",
       "      <td>0.00</td>\n",
       "    </tr>\n",
       "    <tr>\n",
       "      <th>37745114</th>\n",
       "      <td>23</td>\n",
       "      <td>6203.37</td>\n",
       "    </tr>\n",
       "    <tr>\n",
       "      <th>37745124</th>\n",
       "      <td>8</td>\n",
       "      <td>1548.36</td>\n",
       "    </tr>\n",
       "    <tr>\n",
       "      <th>37745144</th>\n",
       "      <td>4</td>\n",
       "      <td>0.00</td>\n",
       "    </tr>\n",
       "    <tr>\n",
       "      <th>37745154</th>\n",
       "      <td>13</td>\n",
       "      <td>0.00</td>\n",
       "    </tr>\n",
       "  </tbody>\n",
       "</table>\n",
       "</div>"
      ],
      "text/plain": [
       "          DSP_CNT_IDEX  FP_IDEX\n",
       "GRID_ID                        \n",
       "37645864             1     0.00\n",
       "37745114            23  6203.37\n",
       "37745124             8  1548.36\n",
       "37745144             4     0.00\n",
       "37745154            13     0.00"
      ]
     },
     "execution_count": 220,
     "metadata": {},
     "output_type": "execute_result"
    }
   ],
   "source": [
    "rect_table.head()"
   ]
  },
  {
   "cell_type": "code",
   "execution_count": 221,
   "id": "c9f6334f",
   "metadata": {},
   "outputs": [
    {
     "data": {
      "text/html": [
       "<div>\n",
       "<style scoped>\n",
       "    .dataframe tbody tr th:only-of-type {\n",
       "        vertical-align: middle;\n",
       "    }\n",
       "\n",
       "    .dataframe tbody tr th {\n",
       "        vertical-align: top;\n",
       "    }\n",
       "\n",
       "    .dataframe thead th {\n",
       "        text-align: right;\n",
       "    }\n",
       "</style>\n",
       "<table border=\"1\" class=\"dataframe\">\n",
       "  <thead>\n",
       "    <tr style=\"text-align: right;\">\n",
       "      <th></th>\n",
       "      <th>DSP_CNT_IDEX</th>\n",
       "      <th>FP_IDEX</th>\n",
       "    </tr>\n",
       "    <tr>\n",
       "      <th>GRID_ID</th>\n",
       "      <th></th>\n",
       "      <th></th>\n",
       "    </tr>\n",
       "  </thead>\n",
       "  <tbody>\n",
       "    <tr>\n",
       "      <th>37745114</th>\n",
       "      <td>23</td>\n",
       "      <td>6203.37</td>\n",
       "    </tr>\n",
       "    <tr>\n",
       "      <th>37745124</th>\n",
       "      <td>8</td>\n",
       "      <td>1548.36</td>\n",
       "    </tr>\n",
       "    <tr>\n",
       "      <th>37845094</th>\n",
       "      <td>5</td>\n",
       "      <td>55.90</td>\n",
       "    </tr>\n",
       "    <tr>\n",
       "      <th>37845114</th>\n",
       "      <td>23</td>\n",
       "      <td>18227.71</td>\n",
       "    </tr>\n",
       "    <tr>\n",
       "      <th>37845124</th>\n",
       "      <td>17</td>\n",
       "      <td>4230.23</td>\n",
       "    </tr>\n",
       "  </tbody>\n",
       "</table>\n",
       "</div>"
      ],
      "text/plain": [
       "          DSP_CNT_IDEX   FP_IDEX\n",
       "GRID_ID                         \n",
       "37745114            23   6203.37\n",
       "37745124             8   1548.36\n",
       "37845094             5     55.90\n",
       "37845114            23  18227.71\n",
       "37845124            17   4230.23"
      ]
     },
     "execution_count": 221,
     "metadata": {},
     "output_type": "execute_result"
    }
   ],
   "source": [
    "# 유동인구 0과 출동빈도 0인 것은 제거\n",
    "rect_table=rect_table.query(\"FP_IDEX>0 and DSP_CNT_IDEX>0\")\n",
    "rect_table.head()"
   ]
  },
  {
   "cell_type": "code",
   "execution_count": 222,
   "id": "51aae08e",
   "metadata": {},
   "outputs": [
    {
     "data": {
      "text/plain": [
       "401"
      ]
     },
     "execution_count": 222,
     "metadata": {},
     "output_type": "execute_result"
    }
   ],
   "source": [
    "len(rect_table)"
   ]
  },
  {
   "cell_type": "code",
   "execution_count": 223,
   "id": "b44f639f",
   "metadata": {},
   "outputs": [
    {
     "data": {
      "text/plain": [
       "<matplotlib.axes._subplots.AxesSubplot at 0x1fe4251c400>"
      ]
     },
     "execution_count": 223,
     "metadata": {},
     "output_type": "execute_result"
    },
    {
     "data": {
      "image/png": "[encoded data removed]",
      "text/plain": [
       "<Figure size 720x720 with 1 Axes>"
      ]
     },
     "metadata": {
      "needs_background": "light"
     },
     "output_type": "display_data"
    }
   ],
   "source": [
    "# 1. 산점도\n",
    "sns.scatterplot(x='DSP_CNT_IDEX', y='FP_IDEX', data=rect_table)"
   ]
  },
  {
   "cell_type": "code",
   "execution_count": 224,
   "id": "813e8f74",
   "metadata": {},
   "outputs": [
    {
     "data": {
      "text/plain": [
       "<seaborn.axisgrid.PairGrid at 0x1fe427424f0>"
      ]
     },
     "execution_count": 224,
     "metadata": {},
     "output_type": "execute_result"
    },
    {
     "data": {
      "image/png": "[encoded data removed]",
      "text/plain": [
       "<Figure size 720x720 with 6 Axes>"
      ]
     },
     "metadata": {
      "needs_background": "light"
     },
     "output_type": "display_data"
    }
   ],
   "source": [
    "sns.pairplot(data=rect_table, kind='reg', height=5)"
   ]
  },
  {
   "cell_type": "code",
   "execution_count": 225,
   "id": "8639b3f0",
   "metadata": {},
   "outputs": [
    {
     "data": {
      "text/plain": [
       "(0.9064597626201691, 1.8331897776304907e-151)"
      ]
     },
     "execution_count": 225,
     "metadata": {},
     "output_type": "execute_result"
    }
   ],
   "source": [
    "# 피어슨 상관계수 결과 0.9로 매우 강한 양의 상관관계 존재\n",
    "stats.pearsonr(rect_table['DSP_CNT_IDEX'], rect_table['FP_IDEX'])"
   ]
  },
  {
   "cell_type": "code",
   "execution_count": 226,
   "id": "43f5e59b",
   "metadata": {},
   "outputs": [],
   "source": [
    "import statsmodels.api as sm\n",
    "from sklearn.linear_model import LinearRegression\n",
    "from scipy import stats"
   ]
  },
  {
   "cell_type": "code",
   "execution_count": 227,
   "id": "084ea6f2",
   "metadata": {},
   "outputs": [
    {
     "data": {
      "text/html": [
       "<div>\n",
       "<style scoped>\n",
       "    .dataframe tbody tr th:only-of-type {\n",
       "        vertical-align: middle;\n",
       "    }\n",
       "\n",
       "    .dataframe tbody tr th {\n",
       "        vertical-align: top;\n",
       "    }\n",
       "\n",
       "    .dataframe thead th {\n",
       "        text-align: right;\n",
       "    }\n",
       "</style>\n",
       "<table border=\"1\" class=\"dataframe\">\n",
       "  <thead>\n",
       "    <tr style=\"text-align: right;\">\n",
       "      <th></th>\n",
       "      <th>DSP_CNT_IDEX</th>\n",
       "      <th>FP_IDEX</th>\n",
       "    </tr>\n",
       "    <tr>\n",
       "      <th>GRID_ID</th>\n",
       "      <th></th>\n",
       "      <th></th>\n",
       "    </tr>\n",
       "  </thead>\n",
       "  <tbody>\n",
       "    <tr>\n",
       "      <th>37745114</th>\n",
       "      <td>23</td>\n",
       "      <td>6203.37</td>\n",
       "    </tr>\n",
       "    <tr>\n",
       "      <th>37745124</th>\n",
       "      <td>8</td>\n",
       "      <td>1548.36</td>\n",
       "    </tr>\n",
       "    <tr>\n",
       "      <th>37845094</th>\n",
       "      <td>5</td>\n",
       "      <td>55.90</td>\n",
       "    </tr>\n",
       "    <tr>\n",
       "      <th>37845114</th>\n",
       "      <td>23</td>\n",
       "      <td>18227.71</td>\n",
       "    </tr>\n",
       "    <tr>\n",
       "      <th>37845124</th>\n",
       "      <td>17</td>\n",
       "      <td>4230.23</td>\n",
       "    </tr>\n",
       "  </tbody>\n",
       "</table>\n",
       "</div>"
      ],
      "text/plain": [
       "          DSP_CNT_IDEX   FP_IDEX\n",
       "GRID_ID                         \n",
       "37745114            23   6203.37\n",
       "37745124             8   1548.36\n",
       "37845094             5     55.90\n",
       "37845114            23  18227.71\n",
       "37845124            17   4230.23"
      ]
     },
     "execution_count": 227,
     "metadata": {},
     "output_type": "execute_result"
    }
   ],
   "source": [
    "rect_table.head()"
   ]
  },
  {
   "cell_type": "code",
   "execution_count": 228,
   "id": "48d5fca3",
   "metadata": {},
   "outputs": [],
   "source": [
    "rect_table=rect_table.sort_values(['DSP_CNT_IDEX'])"
   ]
  },
  {
   "cell_type": "code",
   "execution_count": 229,
   "id": "dc2a2345",
   "metadata": {},
   "outputs": [
    {
     "data": {
      "text/html": [
       "<div>\n",
       "<style scoped>\n",
       "    .dataframe tbody tr th:only-of-type {\n",
       "        vertical-align: middle;\n",
       "    }\n",
       "\n",
       "    .dataframe tbody tr th {\n",
       "        vertical-align: top;\n",
       "    }\n",
       "\n",
       "    .dataframe thead th {\n",
       "        text-align: right;\n",
       "    }\n",
       "</style>\n",
       "<table border=\"1\" class=\"dataframe\">\n",
       "  <thead>\n",
       "    <tr style=\"text-align: right;\">\n",
       "      <th></th>\n",
       "      <th>DSP_CNT_IDEX</th>\n",
       "      <th>FP_IDEX</th>\n",
       "    </tr>\n",
       "    <tr>\n",
       "      <th>GRID_ID</th>\n",
       "      <th></th>\n",
       "      <th></th>\n",
       "    </tr>\n",
       "  </thead>\n",
       "  <tbody>\n",
       "    <tr>\n",
       "      <th>38645194</th>\n",
       "      <td>1</td>\n",
       "      <td>2315.30</td>\n",
       "    </tr>\n",
       "    <tr>\n",
       "      <th>38445174</th>\n",
       "      <td>1</td>\n",
       "      <td>48.18</td>\n",
       "    </tr>\n",
       "    <tr>\n",
       "      <th>39945194</th>\n",
       "      <td>1</td>\n",
       "      <td>7935.19</td>\n",
       "    </tr>\n",
       "    <tr>\n",
       "      <th>38945254</th>\n",
       "      <td>1</td>\n",
       "      <td>3.55</td>\n",
       "    </tr>\n",
       "    <tr>\n",
       "      <th>38245174</th>\n",
       "      <td>1</td>\n",
       "      <td>35895.59</td>\n",
       "    </tr>\n",
       "  </tbody>\n",
       "</table>\n",
       "</div>"
      ],
      "text/plain": [
       "          DSP_CNT_IDEX   FP_IDEX\n",
       "GRID_ID                         \n",
       "38645194             1   2315.30\n",
       "38445174             1     48.18\n",
       "39945194             1   7935.19\n",
       "38945254             1      3.55\n",
       "38245174             1  35895.59"
      ]
     },
     "execution_count": 229,
     "metadata": {},
     "output_type": "execute_result"
    }
   ],
   "source": [
    "rect_table.head()"
   ]
  },
  {
   "cell_type": "code",
   "execution_count": 230,
   "id": "5de97fb1",
   "metadata": {},
   "outputs": [
    {
     "data": {
      "text/plain": [
       "F_onewayResult(statistic=40.47533195514933, pvalue=3.3482600208004557e-10)"
      ]
     },
     "execution_count": 230,
     "metadata": {},
     "output_type": "execute_result"
    }
   ],
   "source": [
    "# 2. F 검정 : P-value 0.05보다 낮아서 귀무가설 기각. 회귀식 적합성 가능\n",
    "stats.f_oneway(rect_table['DSP_CNT_IDEX'],rect_table['FP_IDEX'])"
   ]
  },
  {
   "cell_type": "code",
   "execution_count": 231,
   "id": "60c4f6c6",
   "metadata": {},
   "outputs": [
    {
     "data": {
      "text/plain": [
       "401"
      ]
     },
     "execution_count": 231,
     "metadata": {},
     "output_type": "execute_result"
    }
   ],
   "source": [
    "len(rect_table['DSP_CNT_IDEX'])"
   ]
  },
  {
   "cell_type": "code",
   "execution_count": 232,
   "id": "5e3232b7",
   "metadata": {},
   "outputs": [
    {
     "name": "stdout",
     "output_type": "stream",
     "text": [
      "test_stat: 0.347857, pvalue=0.000000\n",
      "test_stat: 0.357925, pvalue=0.000000\n"
     ]
    }
   ],
   "source": [
    "# 3. 가설 검정\n",
    "# 3.1 정규성 검정 -> 대립가설 (정규성X)\n",
    "test_stat, p_value = stats.shapiro(rect_table['DSP_CNT_IDEX'])\n",
    "print(\"test_stat: %f, pvalue=%f\"%(test_stat, p_value))\n",
    "test_stat, p_value = stats.shapiro(rect_table['FP_IDEX'])\n",
    "print(\"test_stat: %f, pvalue=%f\"%(test_stat, p_value))"
   ]
  },
  {
   "cell_type": "code",
   "execution_count": 233,
   "id": "fa1dc071",
   "metadata": {},
   "outputs": [
    {
     "name": "stdout",
     "output_type": "stream",
     "text": [
      "test_stat: 34469.538588, pvalue=0.275796\n"
     ]
    }
   ],
   "source": [
    "# 3.2 독립성 검정 -> 대립가설 (독립성X)\n",
    "crosstab=pd.crosstab(rect_table['DSP_CNT_IDEX'],rect_table['FP_IDEX'])\n",
    "chi2 = stats.chi2_contingency(crosstab)\n",
    "print(\"test_stat: %f, pvalue=%f\"%(chi2[0], chi2[1]))"
   ]
  },
  {
   "cell_type": "code",
   "execution_count": 234,
   "id": "80a1c597",
   "metadata": {},
   "outputs": [
    {
     "name": "stdout",
     "output_type": "stream",
     "text": [
      "검정 통계량: 76.500, pvalue=0.000\n"
     ]
    }
   ],
   "source": [
    "# 3.3 가설 검정 실시-Wilcoxon Singed-Ranked Test (비모수, 비독립적, 등분산성X) -> 대립가설 채택 (두 변수 영향을 미친다.)\n",
    "result_temp=stats.wilcoxon(rect_table['DSP_CNT_IDEX'],rect_table['FP_IDEX'])\n",
    "print(\"검정 통계량: %.3f, pvalue=%.3f\"%(result_temp)) "
   ]
  },
  {
   "cell_type": "code",
   "execution_count": 235,
   "id": "edff9e6a",
   "metadata": {},
   "outputs": [
    {
     "data": {
      "text/html": [
       "<table class=\"simpletable\">\n",
       "<caption>OLS Regression Results</caption>\n",
       "<tr>\n",
       "  <th>Dep. Variable:</th>      <td>DSP_CNT_IDEX</td>   <th>  R-squared:         </th> <td>   0.822</td> \n",
       "</tr>\n",
       "<tr>\n",
       "  <th>Model:</th>                   <td>OLS</td>       <th>  Adj. R-squared:    </th> <td>   0.821</td> \n",
       "</tr>\n",
       "<tr>\n",
       "  <th>Method:</th>             <td>Least Squares</td>  <th>  F-statistic:       </th> <td>   1838.</td> \n",
       "</tr>\n",
       "<tr>\n",
       "  <th>Date:</th>             <td>Mon, 13 Dec 2021</td> <th>  Prob (F-statistic):</th> <td>1.83e-151</td>\n",
       "</tr>\n",
       "<tr>\n",
       "  <th>Time:</th>                 <td>05:24:37</td>     <th>  Log-Likelihood:    </th> <td> -2121.7</td> \n",
       "</tr>\n",
       "<tr>\n",
       "  <th>No. Observations:</th>      <td>   401</td>      <th>  AIC:               </th> <td>   4247.</td> \n",
       "</tr>\n",
       "<tr>\n",
       "  <th>Df Residuals:</th>          <td>   399</td>      <th>  BIC:               </th> <td>   4255.</td> \n",
       "</tr>\n",
       "<tr>\n",
       "  <th>Df Model:</th>              <td>     1</td>      <th>                     </th>     <td> </td>    \n",
       "</tr>\n",
       "<tr>\n",
       "  <th>Covariance Type:</th>      <td>nonrobust</td>    <th>                     </th>     <td> </td>    \n",
       "</tr>\n",
       "</table>\n",
       "<table class=\"simpletable\">\n",
       "<tr>\n",
       "      <td></td>         <th>coef</th>     <th>std err</th>      <th>t</th>      <th>P>|t|</th>  <th>[0.025</th>    <th>0.975]</th>  \n",
       "</tr>\n",
       "<tr>\n",
       "  <th>Intercept</th> <td>    6.6975</td> <td>    2.524</td> <td>    2.654</td> <td> 0.008</td> <td>    1.736</td> <td>   11.659</td>\n",
       "</tr>\n",
       "<tr>\n",
       "  <th>FP_IDEX</th>   <td> 1.823e-05</td> <td> 4.25e-07</td> <td>   42.877</td> <td> 0.000</td> <td> 1.74e-05</td> <td> 1.91e-05</td>\n",
       "</tr>\n",
       "</table>\n",
       "<table class=\"simpletable\">\n",
       "<tr>\n",
       "  <th>Omnibus:</th>       <td>166.032</td> <th>  Durbin-Watson:     </th> <td>   1.658</td> \n",
       "</tr>\n",
       "<tr>\n",
       "  <th>Prob(Omnibus):</th> <td> 0.000</td>  <th>  Jarque-Bera (JB):  </th> <td>18114.643</td>\n",
       "</tr>\n",
       "<tr>\n",
       "  <th>Skew:</th>          <td>-0.684</td>  <th>  Prob(JB):          </th> <td>    0.00</td> \n",
       "</tr>\n",
       "<tr>\n",
       "  <th>Kurtosis:</th>      <td>35.898</td>  <th>  Cond. No.          </th> <td>6.23e+06</td> \n",
       "</tr>\n",
       "</table><br/><br/>Notes:<br/>[1] Standard Errors assume that the covariance matrix of the errors is correctly specified.<br/>[2] The condition number is large, 6.23e+06. This might indicate that there are<br/>strong multicollinearity or other numerical problems."
      ],
      "text/plain": [
       "<class 'statsmodels.iolib.summary.Summary'>\n",
       "\"\"\"\n",
       "                            OLS Regression Results                            \n",
       "==============================================================================\n",
       "Dep. Variable:           DSP_CNT_IDEX   R-squared:                       0.822\n",
       "Model:                            OLS   Adj. R-squared:                  0.821\n",
       "Method:                 Least Squares   F-statistic:                     1838.\n",
       "Date:                Mon, 13 Dec 2021   Prob (F-statistic):          1.83e-151\n",
       "Time:                        05:24:37   Log-Likelihood:                -2121.7\n",
       "No. Observations:                 401   AIC:                             4247.\n",
       "Df Residuals:                     399   BIC:                             4255.\n",
       "Df Model:                           1                                         \n",
       "Covariance Type:            nonrobust                                         \n",
       "==============================================================================\n",
       "                 coef    std err          t      P>|t|      [0.025      0.975]\n",
       "------------------------------------------------------------------------------\n",
       "Intercept      6.6975      2.524      2.654      0.008       1.736      11.659\n",
       "FP_IDEX     1.823e-05   4.25e-07     42.877      0.000    1.74e-05    1.91e-05\n",
       "==============================================================================\n",
       "Omnibus:                      166.032   Durbin-Watson:                   1.658\n",
       "Prob(Omnibus):                  0.000   Jarque-Bera (JB):            18114.643\n",
       "Skew:                          -0.684   Prob(JB):                         0.00\n",
       "Kurtosis:                      35.898   Cond. No.                     6.23e+06\n",
       "==============================================================================\n",
       "\n",
       "Notes:\n",
       "[1] Standard Errors assume that the covariance matrix of the errors is correctly specified.\n",
       "[2] The condition number is large, 6.23e+06. This might indicate that there are\n",
       "strong multicollinearity or other numerical problems.\n",
       "\"\"\""
      ]
     },
     "execution_count": 235,
     "metadata": {},
     "output_type": "execute_result"
    }
   ],
   "source": [
    "# 4. 다중공선성, 수정결정계수 확인 (수정결정계수 0.828로 1에 근접)\n",
    "## Durbin-Watson 값이 1.668로 1.5~2.5 사이를 독립으로 판단하고 회귀모형이 적합하다는 의미를 가짐\n",
    "model=sm.OLS.from_formula(\" DSP_CNT_IDEX ~ FP_IDEX \", data=rect_table)\n",
    "res=model.fit()\n",
    "res.summary()"
   ]
  },
  {
   "cell_type": "code",
   "execution_count": 236,
   "id": "136792e7",
   "metadata": {},
   "outputs": [
    {
     "data": {
      "text/plain": [
       "['Intercept', 'FP_IDEX']"
      ]
     },
     "execution_count": 236,
     "metadata": {},
     "output_type": "execute_result"
    }
   ],
   "source": [
    "model.exog_names"
   ]
  },
  {
   "cell_type": "code",
   "execution_count": 237,
   "id": "5ec7cb1d",
   "metadata": {},
   "outputs": [
    {
     "data": {
      "text/plain": [
       "1.0000000000000002"
      ]
     },
     "execution_count": 237,
     "metadata": {},
     "output_type": "execute_result"
    }
   ],
   "source": [
    "# 4.1 다중공선성 vif 확인 (1.0으로 10보다 작아서 다중공선성 x)\n",
    "from statsmodels.stats.outliers_influence import variance_inflation_factor\n",
    "variance_inflation_factor(model.exog,1)"
   ]
  },
  {
   "cell_type": "code",
   "execution_count": 238,
   "id": "2252da8a",
   "metadata": {},
   "outputs": [],
   "source": [
    "fitted = res.predict(rect_table)\n",
    "residual = rect_table['DSP_CNT_IDEX'] - fitted"
   ]
  },
  {
   "cell_type": "code",
   "execution_count": 239,
   "id": "42e11786",
   "metadata": {},
   "outputs": [
    {
     "name": "stderr",
     "output_type": "stream",
     "text": [
      "C:\\Users\\duacn\\anaconda3\\envs\\jiwoo\\lib\\site-packages\\seaborn\\_decorators.py:36: FutureWarning: Pass the following variables as keyword args: x, y. From version 0.12, the only valid positional argument will be `data`, and passing other arguments without an explicit keyword will result in an error or misinterpretation.\n",
      "  warnings.warn(\n"
     ]
    },
    {
     "data": {
      "text/plain": [
       "[<matplotlib.lines.Line2D at 0x1fe3ce2b610>]"
      ]
     },
     "execution_count": 239,
     "metadata": {},
     "output_type": "execute_result"
    },
    {
     "data": {
      "image/png": "[encoded data removed]",
      "text/plain": [
       "<Figure size 720x720 with 1 Axes>"
      ]
     },
     "metadata": {
      "needs_background": "light"
     },
     "output_type": "display_data"
    }
   ],
   "source": [
    "# 5. 잔차 분석 (모형의 선형성 존재 거의 확실)\n",
    "plt.rcParams[\"figure.figsize\"] = (10, 10)\n",
    "sns.regplot(fitted, residual, lowess=True, line_kws={'color': 'red'})\n",
    "plt.plot([fitted.min(), fitted.max()], [0, 0], '--', color='grey')"
   ]
  },
  {
   "cell_type": "code",
   "execution_count": 240,
   "id": "920982f4",
   "metadata": {},
   "outputs": [
    {
     "data": {
      "image/png": "[encoded data removed]",
      "text/plain": [
       "<Figure size 720x720 with 1 Axes>"
      ]
     },
     "metadata": {
      "needs_background": "light"
     },
     "output_type": "display_data"
    },
    {
     "name": "stdout",
     "output_type": "stream",
     "text": [
      "test_stat: 0.482857, pvalue=0.000000\n"
     ]
    }
   ],
   "source": [
    "#5.1 잔차의 정규성 검정 -> 잔차가 정규성을 가지고 있지 않음\n",
    "sm.qqplot(res.resid, fit = True, line = \"45\", color='grey')\n",
    "plt.show()\n",
    "test_stat, p_value = stats.shapiro(residual)\n",
    "print(\"test_stat: %f, pvalue=%f\"%(test_stat, p_value))"
   ]
  },
  {
   "cell_type": "code",
   "execution_count": 241,
   "id": "ce6c05a8",
   "metadata": {},
   "outputs": [
    {
     "name": "stderr",
     "output_type": "stream",
     "text": [
      "C:\\Users\\duacn\\anaconda3\\envs\\jiwoo\\lib\\site-packages\\seaborn\\_decorators.py:36: FutureWarning: Pass the following variables as keyword args: x, y. From version 0.12, the only valid positional argument will be `data`, and passing other arguments without an explicit keyword will result in an error or misinterpretation.\n",
      "  warnings.warn(\n"
     ]
    },
    {
     "data": {
      "text/plain": [
       "<matplotlib.axes._subplots.AxesSubplot at 0x1fe3bf7ce20>"
      ]
     },
     "execution_count": 241,
     "metadata": {},
     "output_type": "execute_result"
    },
    {
     "data": {
      "image/png": "[encoded data removed]",
      "text/plain": [
       "<Figure size 720x720 with 1 Axes>"
      ]
     },
     "metadata": {
      "needs_background": "light"
     },
     "output_type": "display_data"
    }
   ],
   "source": [
    "#5.1 잔차의 등분산성 검정 -> 빨간선이 수평적이지 않아 등분산성을 잔차가 가지고 있지 않음\n",
    "zres = stats.zscore(residual)\n",
    "sns.regplot(fitted, np.sqrt(np.abs(zres)), lowess=True, line_kws={'color': 'red'})"
   ]
  },
  {
   "cell_type": "code",
   "execution_count": 242,
   "id": "ba306d74",
   "metadata": {},
   "outputs": [
    {
     "data": {
      "text/plain": [
       "GRID_ID\n",
       "39545254    4.065551e+00\n",
       "39645244    2.365763e+00\n",
       "38845304    2.054422e+00\n",
       "39545274    1.505650e+00\n",
       "39345264    8.661447e-01\n",
       "                ...     \n",
       "39245254    1.851988e-08\n",
       "38545194    1.396194e-08\n",
       "39145294    1.241681e-09\n",
       "39045304    8.069287e-10\n",
       "39245344    1.474000e-10\n",
       "Length: 401, dtype: float64"
      ]
     },
     "execution_count": 242,
     "metadata": {},
     "output_type": "execute_result"
    }
   ],
   "source": [
    "from statsmodels.stats.outliers_influence import OLSInfluence\n",
    "\n",
    "cd, _ = OLSInfluence(res).cooks_distance\n",
    "cd.sort_values(ascending=False)"
   ]
  },
  {
   "cell_type": "code",
   "execution_count": null,
   "id": "4c5ca732",
   "metadata": {},
   "outputs": [],
   "source": []
  },
  {
   "cell_type": "markdown",
   "id": "a5ae5848",
   "metadata": {},
   "source": [
    "### 유동인구 예측하기\n",
    "1. ARIMA 시계열 모형(앞서 선형회귀가 빈도수와 성립함을 증명 관련성 있음)\n",
    "    - ARIMA 모수 설정\n",
    "        - AR, MA 모수 추정 (ACF. PACF 활용)\n",
    "    - 시계열 정상성 검증"
   ]
  },
  {
   "cell_type": "code",
   "execution_count": 507,
   "id": "d1af52be",
   "metadata": {},
   "outputs": [],
   "source": [
    "# 격자 상관 없이 유동인구 시계열 분석 하기\n",
    "## 추후 격자별 시계열 분석 검증 하면 됨\n",
    "time_table = pd.pivot_table(data, values= [\"FP_IDEX\"] , index=['month','day','TIME'], aggfunc=np.mean)"
   ]
  },
  {
   "cell_type": "code",
   "execution_count": 508,
   "id": "efb0b788",
   "metadata": {},
   "outputs": [
    {
     "data": {
      "text/html": [
       "<div>\n",
       "<style scoped>\n",
       "    .dataframe tbody tr th:only-of-type {\n",
       "        vertical-align: middle;\n",
       "    }\n",
       "\n",
       "    .dataframe tbody tr th {\n",
       "        vertical-align: top;\n",
       "    }\n",
       "\n",
       "    .dataframe thead th {\n",
       "        text-align: right;\n",
       "    }\n",
       "</style>\n",
       "<table border=\"1\" class=\"dataframe\">\n",
       "  <thead>\n",
       "    <tr style=\"text-align: right;\">\n",
       "      <th></th>\n",
       "      <th></th>\n",
       "      <th></th>\n",
       "      <th>FP_IDEX</th>\n",
       "    </tr>\n",
       "    <tr>\n",
       "      <th>month</th>\n",
       "      <th>day</th>\n",
       "      <th>TIME</th>\n",
       "      <th></th>\n",
       "    </tr>\n",
       "  </thead>\n",
       "  <tbody>\n",
       "    <tr>\n",
       "      <th rowspan=\"5\" valign=\"top\">1</th>\n",
       "      <th rowspan=\"5\" valign=\"top\">1</th>\n",
       "      <th>0</th>\n",
       "      <td>308.207986</td>\n",
       "    </tr>\n",
       "    <tr>\n",
       "      <th>1</th>\n",
       "      <td>315.649699</td>\n",
       "    </tr>\n",
       "    <tr>\n",
       "      <th>2</th>\n",
       "      <td>268.152782</td>\n",
       "    </tr>\n",
       "    <tr>\n",
       "      <th>3</th>\n",
       "      <td>251.108088</td>\n",
       "    </tr>\n",
       "    <tr>\n",
       "      <th>4</th>\n",
       "      <td>245.129191</td>\n",
       "    </tr>\n",
       "  </tbody>\n",
       "</table>\n",
       "</div>"
      ],
      "text/plain": [
       "                   FP_IDEX\n",
       "month day TIME            \n",
       "1     1   0     308.207986\n",
       "          1     315.649699\n",
       "          2     268.152782\n",
       "          3     251.108088\n",
       "          4     245.129191"
      ]
     },
     "execution_count": 508,
     "metadata": {},
     "output_type": "execute_result"
    }
   ],
   "source": [
    "time_table.head()"
   ]
  },
  {
   "cell_type": "code",
   "execution_count": 509,
   "id": "d00297a1",
   "metadata": {},
   "outputs": [],
   "source": [
    "# 월별로 판단해보기\n",
    "month_1=time_table.query(\"month==1\")"
   ]
  },
  {
   "cell_type": "code",
   "execution_count": 510,
   "id": "373ce1c0",
   "metadata": {},
   "outputs": [
    {
     "data": {
      "text/plain": [
       "[<matplotlib.lines.Line2D at 0x1fe49647f70>]"
      ]
     },
     "execution_count": 510,
     "metadata": {},
     "output_type": "execute_result"
    },
    {
     "data": {
      "image/png": "[encoded data removed]",
      "text/plain": [
       "<Figure size 720x720 with 1 Axes>"
      ]
     },
     "metadata": {
      "needs_background": "light"
     },
     "output_type": "display_data"
    }
   ],
   "source": [
    "plt.plot(month_1.reset_index()['TIME'].index,month_1['FP_IDEX'])"
   ]
  },
  {
   "cell_type": "code",
   "execution_count": 511,
   "id": "c6659e9e",
   "metadata": {},
   "outputs": [
    {
     "name": "stderr",
     "output_type": "stream",
     "text": [
      "C:\\Users\\duacn\\anaconda3\\envs\\jiwoo\\lib\\site-packages\\statsmodels\\regression\\linear_model.py:1434: RuntimeWarning: invalid value encountered in sqrt\n",
      "  return rho, np.sqrt(sigmasq)\n"
     ]
    },
    {
     "data": {
      "image/png": "[encoded data removed]",
      "text/plain": [
       "<Figure size 720x720 with 1 Axes>"
      ]
     },
     "metadata": {
      "needs_background": "light"
     },
     "output_type": "display_data"
    },
    {
     "data": {
      "image/png": "[encoded data removed]",
      "text/plain": [
       "<Figure size 720x720 with 1 Axes>"
      ]
     },
     "metadata": {
      "needs_background": "light"
     },
     "output_type": "display_data"
    }
   ],
   "source": [
    "# 1. AR, MA 모수 추정\n",
    "##\n",
    "import matplotlib.pyplot as plt\n",
    "from statsmodels.graphics.tsaplots import plot_acf, plot_pacf\n",
    "\n",
    "diff_1=month_1.diff(periods=1).iloc[1:]\n",
    "diff_2=diff_1.diff(periods=1).iloc[1:]\n",
    "plot_acf(diff_2)\n",
    "plot_pacf(diff_2)\n",
    "plt.show()"
   ]
  },
  {
   "cell_type": "code",
   "execution_count": 512,
   "id": "05d88518",
   "metadata": {},
   "outputs": [
    {
     "data": {
      "text/html": [
       "<div>\n",
       "<style scoped>\n",
       "    .dataframe tbody tr th:only-of-type {\n",
       "        vertical-align: middle;\n",
       "    }\n",
       "\n",
       "    .dataframe tbody tr th {\n",
       "        vertical-align: top;\n",
       "    }\n",
       "\n",
       "    .dataframe thead th {\n",
       "        text-align: right;\n",
       "    }\n",
       "</style>\n",
       "<table border=\"1\" class=\"dataframe\">\n",
       "  <thead>\n",
       "    <tr style=\"text-align: right;\">\n",
       "      <th></th>\n",
       "      <th></th>\n",
       "      <th></th>\n",
       "      <th>FP_IDEX</th>\n",
       "    </tr>\n",
       "    <tr>\n",
       "      <th>month</th>\n",
       "      <th>day</th>\n",
       "      <th>TIME</th>\n",
       "      <th></th>\n",
       "    </tr>\n",
       "  </thead>\n",
       "  <tbody>\n",
       "    <tr>\n",
       "      <th rowspan=\"11\" valign=\"top\">1</th>\n",
       "      <th rowspan=\"5\" valign=\"top\">1</th>\n",
       "      <th>1</th>\n",
       "      <td>7.441714</td>\n",
       "    </tr>\n",
       "    <tr>\n",
       "      <th>2</th>\n",
       "      <td>-47.496917</td>\n",
       "    </tr>\n",
       "    <tr>\n",
       "      <th>3</th>\n",
       "      <td>-17.044694</td>\n",
       "    </tr>\n",
       "    <tr>\n",
       "      <th>4</th>\n",
       "      <td>-5.978897</td>\n",
       "    </tr>\n",
       "    <tr>\n",
       "      <th>5</th>\n",
       "      <td>-13.237373</td>\n",
       "    </tr>\n",
       "    <tr>\n",
       "      <th>...</th>\n",
       "      <th>...</th>\n",
       "      <td>...</td>\n",
       "    </tr>\n",
       "    <tr>\n",
       "      <th rowspan=\"5\" valign=\"top\">30</th>\n",
       "      <th>19</th>\n",
       "      <td>37.340396</td>\n",
       "    </tr>\n",
       "    <tr>\n",
       "      <th>20</th>\n",
       "      <td>-16.964511</td>\n",
       "    </tr>\n",
       "    <tr>\n",
       "      <th>21</th>\n",
       "      <td>-22.716769</td>\n",
       "    </tr>\n",
       "    <tr>\n",
       "      <th>22</th>\n",
       "      <td>-2.809863</td>\n",
       "    </tr>\n",
       "    <tr>\n",
       "      <th>23</th>\n",
       "      <td>-35.342903</td>\n",
       "    </tr>\n",
       "  </tbody>\n",
       "</table>\n",
       "<p>719 rows × 1 columns</p>\n",
       "</div>"
      ],
      "text/plain": [
       "                  FP_IDEX\n",
       "month day TIME           \n",
       "1     1   1      7.441714\n",
       "          2    -47.496917\n",
       "          3    -17.044694\n",
       "          4     -5.978897\n",
       "          5    -13.237373\n",
       "...                   ...\n",
       "      30  19    37.340396\n",
       "          20   -16.964511\n",
       "          21   -22.716769\n",
       "          22    -2.809863\n",
       "          23   -35.342903\n",
       "\n",
       "[719 rows x 1 columns]"
      ]
     },
     "execution_count": 512,
     "metadata": {},
     "output_type": "execute_result"
    }
   ],
   "source": [
    "diff_1"
   ]
  },
  {
   "cell_type": "code",
   "execution_count": 513,
   "id": "7c5733ee",
   "metadata": {},
   "outputs": [
    {
     "data": {
      "text/html": [
       "<div>\n",
       "<style scoped>\n",
       "    .dataframe tbody tr th:only-of-type {\n",
       "        vertical-align: middle;\n",
       "    }\n",
       "\n",
       "    .dataframe tbody tr th {\n",
       "        vertical-align: top;\n",
       "    }\n",
       "\n",
       "    .dataframe thead th {\n",
       "        text-align: right;\n",
       "    }\n",
       "</style>\n",
       "<table border=\"1\" class=\"dataframe\">\n",
       "  <thead>\n",
       "    <tr style=\"text-align: right;\">\n",
       "      <th></th>\n",
       "      <th></th>\n",
       "      <th></th>\n",
       "      <th>FP_IDEX</th>\n",
       "    </tr>\n",
       "    <tr>\n",
       "      <th>month</th>\n",
       "      <th>day</th>\n",
       "      <th>TIME</th>\n",
       "      <th></th>\n",
       "    </tr>\n",
       "  </thead>\n",
       "  <tbody>\n",
       "    <tr>\n",
       "      <th rowspan=\"11\" valign=\"top\">1</th>\n",
       "      <th rowspan=\"5\" valign=\"top\">1</th>\n",
       "      <th>2</th>\n",
       "      <td>-54.938631</td>\n",
       "    </tr>\n",
       "    <tr>\n",
       "      <th>3</th>\n",
       "      <td>30.452224</td>\n",
       "    </tr>\n",
       "    <tr>\n",
       "      <th>4</th>\n",
       "      <td>11.065797</td>\n",
       "    </tr>\n",
       "    <tr>\n",
       "      <th>5</th>\n",
       "      <td>-7.258476</td>\n",
       "    </tr>\n",
       "    <tr>\n",
       "      <th>6</th>\n",
       "      <td>37.822363</td>\n",
       "    </tr>\n",
       "    <tr>\n",
       "      <th>...</th>\n",
       "      <th>...</th>\n",
       "      <td>...</td>\n",
       "    </tr>\n",
       "    <tr>\n",
       "      <th rowspan=\"5\" valign=\"top\">30</th>\n",
       "      <th>19</th>\n",
       "      <td>-14.478077</td>\n",
       "    </tr>\n",
       "    <tr>\n",
       "      <th>20</th>\n",
       "      <td>-54.304907</td>\n",
       "    </tr>\n",
       "    <tr>\n",
       "      <th>21</th>\n",
       "      <td>-5.752258</td>\n",
       "    </tr>\n",
       "    <tr>\n",
       "      <th>22</th>\n",
       "      <td>19.906906</td>\n",
       "    </tr>\n",
       "    <tr>\n",
       "      <th>23</th>\n",
       "      <td>-32.533040</td>\n",
       "    </tr>\n",
       "  </tbody>\n",
       "</table>\n",
       "<p>718 rows × 1 columns</p>\n",
       "</div>"
      ],
      "text/plain": [
       "                  FP_IDEX\n",
       "month day TIME           \n",
       "1     1   2    -54.938631\n",
       "          3     30.452224\n",
       "          4     11.065797\n",
       "          5     -7.258476\n",
       "          6     37.822363\n",
       "...                   ...\n",
       "      30  19   -14.478077\n",
       "          20   -54.304907\n",
       "          21    -5.752258\n",
       "          22    19.906906\n",
       "          23   -32.533040\n",
       "\n",
       "[718 rows x 1 columns]"
      ]
     },
     "execution_count": 513,
     "metadata": {},
     "output_type": "execute_result"
    }
   ],
   "source": [
    "diff_2"
   ]
  },
  {
   "cell_type": "code",
   "execution_count": 514,
   "id": "e249d85e",
   "metadata": {},
   "outputs": [
    {
     "data": {
      "text/plain": [
       "[<matplotlib.lines.Line2D at 0x1fe4753edc0>]"
      ]
     },
     "execution_count": 514,
     "metadata": {},
     "output_type": "execute_result"
    },
    {
     "data": {
      "image/png": "[encoded data removed]",
      "text/plain": [
       "<Figure size 720x720 with 1 Axes>"
      ]
     },
     "metadata": {
      "needs_background": "light"
     },
     "output_type": "display_data"
    }
   ],
   "source": [
    "plt.plot(diff_2.reset_index()['TIME'].index,diff_2['FP_IDEX'])"
   ]
  },
  {
   "cell_type": "code",
   "execution_count": 515,
   "id": "86f3a798",
   "metadata": {},
   "outputs": [
    {
     "name": "stdout",
     "output_type": "stream",
     "text": [
      "ADF Statistic: -13.946042\n",
      "P-value: 0.000000\n"
     ]
    }
   ],
   "source": [
    "# 정상성 검정 (ADF 검정) -> 대립가설로 정상성을 만족한다.\n",
    "from statsmodels.tsa.stattools import adfuller\n",
    "result = adfuller(diff_2)\n",
    "print('ADF Statistic: %f' %result[0])\n",
    "print('P-value: %f' %result[1])"
   ]
  },
  {
   "cell_type": "code",
   "execution_count": 516,
   "id": "f38695bf",
   "metadata": {},
   "outputs": [
    {
     "name": "stdout",
     "output_type": "stream",
     "text": [
      "ADF Statistic: -2.713454\n",
      "P-value: 0.071739\n"
     ]
    }
   ],
   "source": [
    "result = adfuller(month_1)\n",
    "print('ADF Statistic: %f' %result[0])\n",
    "print('P-value: %f' %result[1])"
   ]
  },
  {
   "cell_type": "code",
   "execution_count": 540,
   "id": "50effcf9",
   "metadata": {},
   "outputs": [
    {
     "name": "stderr",
     "output_type": "stream",
     "text": [
      "C:\\Users\\duacn\\anaconda3\\envs\\jiwoo\\lib\\site-packages\\statsmodels\\tsa\\base\\tsa_model.py:578: ValueWarning: An unsupported index was provided and will be ignored when e.g. forecasting.\n",
      "  warnings.warn('An unsupported index was provided and will be'\n",
      "C:\\Users\\duacn\\anaconda3\\envs\\jiwoo\\lib\\site-packages\\statsmodels\\tsa\\base\\tsa_model.py:578: ValueWarning: An unsupported index was provided and will be ignored when e.g. forecasting.\n",
      "  warnings.warn('An unsupported index was provided and will be'\n",
      "C:\\Users\\duacn\\anaconda3\\envs\\jiwoo\\lib\\site-packages\\statsmodels\\tsa\\base\\tsa_model.py:578: ValueWarning: An unsupported index was provided and will be ignored when e.g. forecasting.\n",
      "  warnings.warn('An unsupported index was provided and will be'\n"
     ]
    },
    {
     "data": {
      "text/html": [
       "<table class=\"simpletable\">\n",
       "<caption>SARIMAX Results</caption>\n",
       "<tr>\n",
       "  <th>Dep. Variable:</th>        <td>FP_IDEX</td>     <th>  No. Observations:  </th>    <td>710</td>   \n",
       "</tr>\n",
       "<tr>\n",
       "  <th>Model:</th>            <td>ARIMA(1, 3, 1)</td>  <th>  Log Likelihood     </th> <td>-3810.245</td>\n",
       "</tr>\n",
       "<tr>\n",
       "  <th>Date:</th>            <td>Mon, 13 Dec 2021</td> <th>  AIC                </th> <td>7626.491</td> \n",
       "</tr>\n",
       "<tr>\n",
       "  <th>Time:</th>                <td>07:04:58</td>     <th>  BIC                </th> <td>7640.174</td> \n",
       "</tr>\n",
       "<tr>\n",
       "  <th>Sample:</th>                  <td>0</td>        <th>  HQIC               </th> <td>7631.777</td> \n",
       "</tr>\n",
       "<tr>\n",
       "  <th></th>                      <td> - 710</td>      <th>                     </th>     <td> </td>    \n",
       "</tr>\n",
       "<tr>\n",
       "  <th>Covariance Type:</th>        <td>opg</td>       <th>                     </th>     <td> </td>    \n",
       "</tr>\n",
       "</table>\n",
       "<table class=\"simpletable\">\n",
       "<tr>\n",
       "     <td></td>       <th>coef</th>     <th>std err</th>      <th>z</th>      <th>P>|z|</th>  <th>[0.025</th>    <th>0.975]</th>  \n",
       "</tr>\n",
       "<tr>\n",
       "  <th>ar.L1</th>  <td>   -0.4704</td> <td>    0.020</td> <td>  -23.499</td> <td> 0.000</td> <td>   -0.510</td> <td>   -0.431</td>\n",
       "</tr>\n",
       "<tr>\n",
       "  <th>ma.L1</th>  <td>   -0.9999</td> <td>    1.356</td> <td>   -0.738</td> <td> 0.461</td> <td>   -3.657</td> <td>    1.657</td>\n",
       "</tr>\n",
       "<tr>\n",
       "  <th>sigma2</th> <td> 2779.7368</td> <td> 3743.367</td> <td>    0.743</td> <td> 0.458</td> <td>-4557.128</td> <td> 1.01e+04</td>\n",
       "</tr>\n",
       "</table>\n",
       "<table class=\"simpletable\">\n",
       "<tr>\n",
       "  <th>Ljung-Box (L1) (Q):</th>     <td>13.62</td> <th>  Jarque-Bera (JB):  </th> <td>1278.23</td>\n",
       "</tr>\n",
       "<tr>\n",
       "  <th>Prob(Q):</th>                <td>0.00</td>  <th>  Prob(JB):          </th>  <td>0.00</td>  \n",
       "</tr>\n",
       "<tr>\n",
       "  <th>Heteroskedasticity (H):</th> <td>0.69</td>  <th>  Skew:              </th>  <td>-0.62</td> \n",
       "</tr>\n",
       "<tr>\n",
       "  <th>Prob(H) (two-sided):</th>    <td>0.00</td>  <th>  Kurtosis:          </th>  <td>9.47</td>  \n",
       "</tr>\n",
       "</table><br/><br/>Warnings:<br/>[1] Covariance matrix calculated using the outer product of gradients (complex-step)."
      ],
      "text/plain": [
       "<class 'statsmodels.iolib.summary.Summary'>\n",
       "\"\"\"\n",
       "                               SARIMAX Results                                \n",
       "==============================================================================\n",
       "Dep. Variable:                FP_IDEX   No. Observations:                  710\n",
       "Model:                 ARIMA(1, 3, 1)   Log Likelihood               -3810.245\n",
       "Date:                Mon, 13 Dec 2021   AIC                           7626.491\n",
       "Time:                        07:04:58   BIC                           7640.174\n",
       "Sample:                             0   HQIC                          7631.777\n",
       "                                - 710                                         \n",
       "Covariance Type:                  opg                                         \n",
       "==============================================================================\n",
       "                 coef    std err          z      P>|z|      [0.025      0.975]\n",
       "------------------------------------------------------------------------------\n",
       "ar.L1         -0.4704      0.020    -23.499      0.000      -0.510      -0.431\n",
       "ma.L1         -0.9999      1.356     -0.738      0.461      -3.657       1.657\n",
       "sigma2      2779.7368   3743.367      0.743      0.458   -4557.128    1.01e+04\n",
       "===================================================================================\n",
       "Ljung-Box (L1) (Q):                  13.62   Jarque-Bera (JB):              1278.23\n",
       "Prob(Q):                              0.00   Prob(JB):                         0.00\n",
       "Heteroskedasticity (H):               0.69   Skew:                            -0.62\n",
       "Prob(H) (two-sided):                  0.00   Kurtosis:                         9.47\n",
       "===================================================================================\n",
       "\n",
       "Warnings:\n",
       "[1] Covariance matrix calculated using the outer product of gradients (complex-step).\n",
       "\"\"\""
      ]
     },
     "execution_count": 540,
     "metadata": {},
     "output_type": "execute_result"
    }
   ],
   "source": [
    "from statsmodels.tsa.arima.model import ARIMA\n",
    "model = ARIMA(month_1[:-10], order = (1,3,1))\n",
    "model_fit = model.fit()\n",
    "model_fit.summary()"
   ]
  },
  {
   "cell_type": "code",
   "execution_count": 546,
   "id": "73896719",
   "metadata": {},
   "outputs": [
    {
     "name": "stderr",
     "output_type": "stream",
     "text": [
      "C:\\Users\\duacn\\anaconda3\\envs\\jiwoo\\lib\\site-packages\\statsmodels\\tsa\\base\\tsa_model.py:376: ValueWarning: No supported index is available. Prediction results will be given with an integer index beginning at `start`.\n",
      "  warnings.warn('No supported index is available.'\n"
     ]
    },
    {
     "data": {
      "text/plain": [
       "array([465.76629052, 462.45117329, 461.5455655 , 459.522623  ,\n",
       "       458.04148713, 456.32164424, 454.73027316, 453.09464111,\n",
       "       451.49600717, 449.89614443])"
      ]
     },
     "execution_count": 546,
     "metadata": {},
     "output_type": "execute_result"
    }
   ],
   "source": [
    "pred=model_fit.forecast(steps=month_1[-10:].shape[0]).values\n",
    "num=len(pred)\n"
   ]
  },
  {
   "cell_type": "code",
   "execution_count": 542,
   "id": "dd4c474b",
   "metadata": {},
   "outputs": [
    {
     "data": {
      "text/html": [
       "<div>\n",
       "<style scoped>\n",
       "    .dataframe tbody tr th:only-of-type {\n",
       "        vertical-align: middle;\n",
       "    }\n",
       "\n",
       "    .dataframe tbody tr th {\n",
       "        vertical-align: top;\n",
       "    }\n",
       "\n",
       "    .dataframe thead th {\n",
       "        text-align: right;\n",
       "    }\n",
       "</style>\n",
       "<table border=\"1\" class=\"dataframe\">\n",
       "  <thead>\n",
       "    <tr style=\"text-align: right;\">\n",
       "      <th></th>\n",
       "      <th></th>\n",
       "      <th></th>\n",
       "      <th>FP_IDEX</th>\n",
       "    </tr>\n",
       "    <tr>\n",
       "      <th>month</th>\n",
       "      <th>day</th>\n",
       "      <th>TIME</th>\n",
       "      <th></th>\n",
       "    </tr>\n",
       "  </thead>\n",
       "  <tbody>\n",
       "    <tr>\n",
       "      <th rowspan=\"10\" valign=\"top\">1</th>\n",
       "      <th rowspan=\"10\" valign=\"top\">30</th>\n",
       "      <th>14</th>\n",
       "      <td>463.828373</td>\n",
       "    </tr>\n",
       "    <tr>\n",
       "      <th>15</th>\n",
       "      <td>470.974353</td>\n",
       "    </tr>\n",
       "    <tr>\n",
       "      <th>16</th>\n",
       "      <td>491.127247</td>\n",
       "    </tr>\n",
       "    <tr>\n",
       "      <th>17</th>\n",
       "      <td>501.427782</td>\n",
       "    </tr>\n",
       "    <tr>\n",
       "      <th>18</th>\n",
       "      <td>553.246255</td>\n",
       "    </tr>\n",
       "    <tr>\n",
       "      <th>19</th>\n",
       "      <td>590.586651</td>\n",
       "    </tr>\n",
       "    <tr>\n",
       "      <th>20</th>\n",
       "      <td>573.622140</td>\n",
       "    </tr>\n",
       "    <tr>\n",
       "      <th>21</th>\n",
       "      <td>550.905370</td>\n",
       "    </tr>\n",
       "    <tr>\n",
       "      <th>22</th>\n",
       "      <td>548.095507</td>\n",
       "    </tr>\n",
       "    <tr>\n",
       "      <th>23</th>\n",
       "      <td>512.752604</td>\n",
       "    </tr>\n",
       "  </tbody>\n",
       "</table>\n",
       "</div>"
      ],
      "text/plain": [
       "                   FP_IDEX\n",
       "month day TIME            \n",
       "1     30  14    463.828373\n",
       "          15    470.974353\n",
       "          16    491.127247\n",
       "          17    501.427782\n",
       "          18    553.246255\n",
       "          19    590.586651\n",
       "          20    573.622140\n",
       "          21    550.905370\n",
       "          22    548.095507\n",
       "          23    512.752604"
      ]
     },
     "execution_count": 542,
     "metadata": {},
     "output_type": "execute_result"
    }
   ],
   "source": [
    "month_1[-10:]"
   ]
  },
  {
   "cell_type": "code",
   "execution_count": 68,
   "id": "20c9464c",
   "metadata": {},
   "outputs": [
    {
     "data": {
      "text/plain": [
       "<matplotlib.collections.PathCollection at 0x1fe04629970>"
      ]
     },
     "execution_count": 68,
     "metadata": {},
     "output_type": "execute_result"
    },
    {
     "data": {
      "image/png": "[encoded data removed]",
      "text/plain": [
       "<Figure size 432x288 with 1 Axes>"
      ]
     },
     "metadata": {
      "needs_background": "light"
     },
     "output_type": "display_data"
    }
   ],
   "source": [
    "plt.scatter(time0['day'], time0['FP_IDEX']) # 0~1시 day 일자 늘어날 때 마다 점점 유동인구 늘어나는 경향 O"
   ]
  },
  {
   "cell_type": "code",
   "execution_count": 69,
   "id": "6f89b0ea",
   "metadata": {},
   "outputs": [
    {
     "ename": "NameError",
     "evalue": "name 'ols' is not defined",
     "output_type": "error",
     "traceback": [
      "\u001b[1;31m---------------------------------------------------------------------------\u001b[0m",
      "\u001b[1;31mNameError\u001b[0m                                 Traceback (most recent call last)",
      "\u001b[1;32m<ipython-input-69-4bacab4f22e1>\u001b[0m in \u001b[0;36m<module>\u001b[1;34m\u001b[0m\n\u001b[1;32m----> 1\u001b[1;33m \u001b[0mres0\u001b[0m \u001b[1;33m=\u001b[0m \u001b[0mols\u001b[0m\u001b[1;33m(\u001b[0m\u001b[0mx\u001b[0m\u001b[1;33m=\u001b[0m\u001b[0mtime0\u001b[0m\u001b[1;33m)\u001b[0m\u001b[1;33m.\u001b[0m\u001b[0mfit\u001b[0m\u001b[1;33m(\u001b[0m\u001b[1;33m)\u001b[0m\u001b[1;33m\u001b[0m\u001b[1;33m\u001b[0m\u001b[0m\n\u001b[0m",
      "\u001b[1;31mNameError\u001b[0m: name 'ols' is not defined"
     ]
    }
   ],
   "source": [
    "res0 = ols(x=time0).fit()"
   ]
  },
  {
   "cell_type": "code",
   "execution_count": 70,
   "id": "c0da4a57",
   "metadata": {},
   "outputs": [
    {
     "ename": "NameError",
     "evalue": "name 'res0' is not defined",
     "output_type": "error",
     "traceback": [
      "\u001b[1;31m---------------------------------------------------------------------------\u001b[0m",
      "\u001b[1;31mNameError\u001b[0m                                 Traceback (most recent call last)",
      "\u001b[1;32m<ipython-input-70-8c063d01ecaf>\u001b[0m in \u001b[0;36m<module>\u001b[1;34m\u001b[0m\n\u001b[1;32m----> 1\u001b[1;33m \u001b[0mfitted0\u001b[0m \u001b[1;33m=\u001b[0m \u001b[0mres0\u001b[0m\u001b[1;33m.\u001b[0m\u001b[0mpredict\u001b[0m\u001b[1;33m(\u001b[0m\u001b[0mtime0\u001b[0m\u001b[1;33m)\u001b[0m\u001b[1;33m\u001b[0m\u001b[1;33m\u001b[0m\u001b[0m\n\u001b[0m\u001b[0;32m      2\u001b[0m \u001b[0mresidual0\u001b[0m \u001b[1;33m=\u001b[0m \u001b[0mtime0\u001b[0m\u001b[1;33m[\u001b[0m\u001b[1;34m'FP_IDEX'\u001b[0m\u001b[1;33m]\u001b[0m \u001b[1;33m-\u001b[0m \u001b[0mfitted0\u001b[0m\u001b[1;33m\u001b[0m\u001b[1;33m\u001b[0m\u001b[0m\n",
      "\u001b[1;31mNameError\u001b[0m: name 'res0' is not defined"
     ]
    }
   ],
   "source": [
    "fitted0 = res0.predict(time0)\n",
    "residual0 = time0['FP_IDEX'] - fitted0"
   ]
  },
  {
   "cell_type": "code",
   "execution_count": 92,
   "id": "775ae575",
   "metadata": {},
   "outputs": [
    {
     "data": {
      "text/plain": [
       "[<matplotlib.lines.Line2D at 0x26b616e59d0>]"
      ]
     },
     "execution_count": 92,
     "metadata": {},
     "output_type": "execute_result"
    },
    {
     "data": {
      "image/png": "[encoded data removed]",
      "text/plain": [
       "<Figure size 432x288 with 1 Axes>"
      ]
     },
     "metadata": {
      "needs_background": "light"
     },
     "output_type": "display_data"
    }
   ],
   "source": [
    "# 잔차가 비슷함 (선형성이 존재함)\n",
    "sns.regplot(fitted0, residual0, lowess=True, line_kws={'color': 'red'})\n",
    "plt.plot([fitted0.min(), fitted0.max()], [0, 0], '--', color='grey')"
   ]
  },
  {
   "cell_type": "code",
   "execution_count": null,
   "id": "b47d7697",
   "metadata": {},
   "outputs": [],
   "source": [
    "rect_table = pd.pivot_table(data, values= [\"DSP_CNT_IDEX\",\"FP_IDEX\"] , index=['GRID_ID'], aggfunc=np.sum)"
   ]
  }
 ],
 "metadata": {
  "kernelspec": {
   "display_name": "Python 3",
   "language": "python",
   "name": "python3"
  },
  "language_info": {
   "codemirror_mode": {
    "name": "ipython",
    "version": 3
   },
   "file_extension": ".py",
   "mimetype": "text/x-python",
   "name": "python",
   "nbconvert_exporter": "python",
   "pygments_lexer": "ipython3",
   "version": "3.8.8"
  }
 },
 "nbformat": 4,
 "nbformat_minor": 5
}
